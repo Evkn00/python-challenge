{
 "cells": [
  {
   "cell_type": "code",
   "execution_count": 74,
   "metadata": {},
   "outputs": [],
   "source": [
    "import pandas as pd"
   ]
  },
  {
   "cell_type": "code",
   "execution_count": 75,
   "metadata": {},
   "outputs": [],
   "source": [
    "df = pd.read_csv(\"../Resources/budget_data.csv\")"
   ]
  },
  {
   "cell_type": "code",
   "execution_count": 76,
   "metadata": {},
   "outputs": [
    {
     "data": {
      "text/html": [
       "<div>\n",
       "<style scoped>\n",
       "    .dataframe tbody tr th:only-of-type {\n",
       "        vertical-align: middle;\n",
       "    }\n",
       "\n",
       "    .dataframe tbody tr th {\n",
       "        vertical-align: top;\n",
       "    }\n",
       "\n",
       "    .dataframe thead th {\n",
       "        text-align: right;\n",
       "    }\n",
       "</style>\n",
       "<table border=\"1\" class=\"dataframe\">\n",
       "  <thead>\n",
       "    <tr style=\"text-align: right;\">\n",
       "      <th></th>\n",
       "      <th>Date</th>\n",
       "      <th>Profit/Losses</th>\n",
       "    </tr>\n",
       "  </thead>\n",
       "  <tbody>\n",
       "    <tr>\n",
       "      <th>0</th>\n",
       "      <td>Jan-10</td>\n",
       "      <td>1088983</td>\n",
       "    </tr>\n",
       "    <tr>\n",
       "      <th>1</th>\n",
       "      <td>Feb-10</td>\n",
       "      <td>-354534</td>\n",
       "    </tr>\n",
       "    <tr>\n",
       "      <th>2</th>\n",
       "      <td>Mar-10</td>\n",
       "      <td>276622</td>\n",
       "    </tr>\n",
       "    <tr>\n",
       "      <th>3</th>\n",
       "      <td>Apr-10</td>\n",
       "      <td>-728133</td>\n",
       "    </tr>\n",
       "    <tr>\n",
       "      <th>4</th>\n",
       "      <td>May-10</td>\n",
       "      <td>852993</td>\n",
       "    </tr>\n",
       "  </tbody>\n",
       "</table>\n",
       "</div>"
      ],
      "text/plain": [
       "     Date  Profit/Losses\n",
       "0  Jan-10        1088983\n",
       "1  Feb-10        -354534\n",
       "2  Mar-10         276622\n",
       "3  Apr-10        -728133\n",
       "4  May-10         852993"
      ]
     },
     "execution_count": 76,
     "metadata": {},
     "output_type": "execute_result"
    }
   ],
   "source": [
    "df.head()"
   ]
  },
  {
   "cell_type": "code",
   "execution_count": 77,
   "metadata": {},
   "outputs": [],
   "source": [
    "num_months =  len(df['Date'].unique())\n"
   ]
  },
  {
   "cell_type": "code",
   "execution_count": 78,
   "metadata": {},
   "outputs": [
    {
     "data": {
      "text/plain": [
       "22564198"
      ]
     },
     "execution_count": 78,
     "metadata": {},
     "output_type": "execute_result"
    }
   ],
   "source": [
    "pnl = sum(df['Profit/Losses'])\n",
    "pnl"
   ]
  },
  {
   "cell_type": "code",
   "execution_count": 79,
   "metadata": {},
   "outputs": [
    {
     "data": {
      "text/plain": [
       "262374.3953488372"
      ]
     },
     "execution_count": 79,
     "metadata": {},
     "output_type": "execute_result"
    }
   ],
   "source": [
    "avg_pnl = (df['Profit/Losses']).mean()\n",
    "avg_pnl"
   ]
  },
  {
   "cell_type": "code",
   "execution_count": 80,
   "metadata": {},
   "outputs": [
    {
     "name": "stdout",
     "output_type": "stream",
     "text": [
      "      Date  Profit/Losses\n",
      "38  Mar-13        1141840\n"
     ]
    }
   ],
   "source": [
    "max_pnl = df.loc[df['Profit/Losses'] == df['Profit/Losses'].max()]\n",
    "print(max_pnl)"
   ]
  },
  {
   "cell_type": "code",
   "execution_count": 81,
   "metadata": {},
   "outputs": [
    {
     "data": {
      "text/plain": [
       "-8311.105882352942"
      ]
     },
     "execution_count": 81,
     "metadata": {},
     "output_type": "execute_result"
    }
   ],
   "source": [
    "#The changes in \"Profit/Losses\" over the entire period, and then the average of those changes\n",
    "profits_losses = df[\"Profit/Losses\"]\n",
    "\n",
    "# use list comprehension to calculate the changes in profit/losses over the entire period\n",
    "changes = [profits_losses[i+1] - profits_losses[i] for i in range(len(profits_losses)-1)]\n",
    "\n",
    "# calculate the average of the changes\n",
    "average_change = sum(changes) / len(changes)\n",
    "average_change\n"
   ]
  },
  {
   "cell_type": "code",
   "execution_count": 82,
   "metadata": {},
   "outputs": [
    {
     "data": {
      "text/plain": [
       "1141840"
      ]
     },
     "execution_count": 82,
     "metadata": {},
     "output_type": "execute_result"
    }
   ],
   "source": [
    "df['Profit/Losses'].max()"
   ]
  },
  {
   "cell_type": "code",
   "execution_count": 83,
   "metadata": {},
   "outputs": [
    {
     "data": {
      "text/plain": [
       "'Aug-16'"
      ]
     },
     "execution_count": 83,
     "metadata": {},
     "output_type": "execute_result"
    }
   ],
   "source": [
    "#Set initial value\n",
    "max_gain = 0\n",
    "\n",
    "#loop through rows 2 to len()\n",
    "for i in range(1, len(df['Profit/Losses'])):\n",
    "    #setup for loop to check if current cell difference from last month is greater than max_gain\n",
    "    if (df['Profit/Losses'][i] - df['Profit/Losses'][i - 1]) > max_gain:\n",
    "\n",
    "        #update value of max_gain\n",
    "        max_gain = df['Profit/Losses'][i] - df['Profit/Losses'][i - 1]\n",
    "\n",
    "        #update value of max_gain_date\n",
    "        max_gain_date = df['Date'][i]\n",
    "\n",
    "#print outputs\n",
    "max_gain\n",
    "max_gain_date"
   ]
  },
  {
   "cell_type": "code",
   "execution_count": 84,
   "metadata": {},
   "outputs": [
    {
     "data": {
      "text/plain": [
       "'Feb-14'"
      ]
     },
     "execution_count": 84,
     "metadata": {},
     "output_type": "execute_result"
    }
   ],
   "source": [
    "#Set initial value\n",
    "max_loss = 0\n",
    "\n",
    "#loop through rows 2 to len()\n",
    "for i in range(1, len(df['Profit/Losses'])): \n",
    "\n",
    "    #setup for loop to check if current cell difference from last month is greater than max loss\n",
    "    if (df['Profit/Losses'][i] - df['Profit/Losses'][i - 1]) < max_loss:\n",
    "\n",
    "        #update value of max_loss\n",
    "        max_loss = df['Profit/Losses'][i] - df['Profit/Losses'][i - 1]\n",
    "               \n",
    "        #update value of max_loss_date\n",
    "        max_loss_date = df['Date'][i]\n",
    "\n",
    "#print outpuits\n",
    "max_loss\n",
    "max_loss_date"
   ]
  },
  {
   "cell_type": "code",
   "execution_count": 85,
   "metadata": {},
   "outputs": [
    {
     "name": "stdout",
     "output_type": "stream",
     "text": [
      "Financial Analysis\n",
      "---------------------------\n",
      "Total Months: 86\n",
      "Total: $22564198\n",
      "Average Change: $-8311.11\n",
      "Greatest Increase In Profits: Aug-16 ($1862002)\n",
      "Greatest Decrease In Profits: Feb-14 ($-1825558)\n"
     ]
    }
   ],
   "source": [
    "#Final output\n",
    "\n",
    "print('Financial Analysis')\n",
    "print('---------------------------')\n",
    "print(f\"Total Months: {num_months}\")\n",
    "print(f\"Total: ${pnl}\")\n",
    "print(f\"Average Change: ${round(average_change, 2)}\")\n",
    "print(f\"Greatest Increase In Profits: {max_gain_date} (${max_gain})\")\n",
    "print(f\"Greatest Decrease In Profits: {max_loss_date} (${max_loss})\")"
   ]
  },
  {
   "cell_type": "code",
   "execution_count": 86,
   "metadata": {},
   "outputs": [],
   "source": [
    "#Output to output.csv\n",
    "with open('output.txt', 'a') as f:\n",
    "    print('Financial Analysis', file=f)\n",
    "    print('---------------------------', file=f)\n",
    "    print(f\"Total Months: {num_months}\", file=f)\n",
    "    print(f\"Total: ${pnl}\", file=f)\n",
    "    print(f\"Average Change: ${round(average_change, 2)}\", file=f)\n",
    "    print(f\"Greatest Increase In Profits: {max_gain_date} (${max_gain})\", file=f)\n",
    "    print(f\"Greatest Decrease In Profits: {max_loss_date} (${max_loss})\", file=f) "
   ]
  }
 ],
 "metadata": {
  "kernelspec": {
   "display_name": "AUDABC",
   "language": "python",
   "name": "python3"
  },
  "language_info": {
   "codemirror_mode": {
    "name": "ipython",
    "version": 3
   },
   "file_extension": ".py",
   "mimetype": "text/x-python",
   "name": "python",
   "nbconvert_exporter": "python",
   "pygments_lexer": "ipython3",
   "version": "3.10.10"
  },
  "orig_nbformat": 4
 },
 "nbformat": 4,
 "nbformat_minor": 2
}
