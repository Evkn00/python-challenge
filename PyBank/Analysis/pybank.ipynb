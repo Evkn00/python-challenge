{
 "cells": [
  {
   "cell_type": "code",
   "execution_count": 6,
   "metadata": {},
   "outputs": [],
   "source": [
    "import pandas as pd"
   ]
  },
  {
   "cell_type": "code",
   "execution_count": 7,
   "metadata": {},
   "outputs": [],
   "source": [
    "df = pd.read_csv(\"../Resources/budget_data.csv\")"
   ]
  },
  {
   "cell_type": "code",
   "execution_count": 8,
   "metadata": {},
   "outputs": [
    {
     "data": {
      "text/html": [
       "<div>\n",
       "<style scoped>\n",
       "    .dataframe tbody tr th:only-of-type {\n",
       "        vertical-align: middle;\n",
       "    }\n",
       "\n",
       "    .dataframe tbody tr th {\n",
       "        vertical-align: top;\n",
       "    }\n",
       "\n",
       "    .dataframe thead th {\n",
       "        text-align: right;\n",
       "    }\n",
       "</style>\n",
       "<table border=\"1\" class=\"dataframe\">\n",
       "  <thead>\n",
       "    <tr style=\"text-align: right;\">\n",
       "      <th></th>\n",
       "      <th>Date</th>\n",
       "      <th>Profit/Losses</th>\n",
       "    </tr>\n",
       "  </thead>\n",
       "  <tbody>\n",
       "    <tr>\n",
       "      <th>0</th>\n",
       "      <td>Jan-10</td>\n",
       "      <td>1088983</td>\n",
       "    </tr>\n",
       "    <tr>\n",
       "      <th>1</th>\n",
       "      <td>Feb-10</td>\n",
       "      <td>-354534</td>\n",
       "    </tr>\n",
       "    <tr>\n",
       "      <th>2</th>\n",
       "      <td>Mar-10</td>\n",
       "      <td>276622</td>\n",
       "    </tr>\n",
       "    <tr>\n",
       "      <th>3</th>\n",
       "      <td>Apr-10</td>\n",
       "      <td>-728133</td>\n",
       "    </tr>\n",
       "    <tr>\n",
       "      <th>4</th>\n",
       "      <td>May-10</td>\n",
       "      <td>852993</td>\n",
       "    </tr>\n",
       "  </tbody>\n",
       "</table>\n",
       "</div>"
      ],
      "text/plain": [
       "     Date  Profit/Losses\n",
       "0  Jan-10        1088983\n",
       "1  Feb-10        -354534\n",
       "2  Mar-10         276622\n",
       "3  Apr-10        -728133\n",
       "4  May-10         852993"
      ]
     },
     "execution_count": 8,
     "metadata": {},
     "output_type": "execute_result"
    }
   ],
   "source": [
    "df.head()"
   ]
  },
  {
   "cell_type": "code",
   "execution_count": 9,
   "metadata": {},
   "outputs": [],
   "source": [
    "num_months =  len(df['Date'].unique())\n"
   ]
  },
  {
   "cell_type": "code",
   "execution_count": 10,
   "metadata": {},
   "outputs": [
    {
     "data": {
      "text/plain": [
       "22564198"
      ]
     },
     "execution_count": 10,
     "metadata": {},
     "output_type": "execute_result"
    }
   ],
   "source": [
    "pnl = sum(df['Profit/Losses'])\n",
    "pnl"
   ]
  },
  {
   "cell_type": "code",
   "execution_count": 11,
   "metadata": {},
   "outputs": [
    {
     "data": {
      "text/plain": [
       "262374.3953488372"
      ]
     },
     "execution_count": 11,
     "metadata": {},
     "output_type": "execute_result"
    }
   ],
   "source": [
    "avg_pnl = (df['Profit/Losses']).mean()\n",
    "avg_pnl"
   ]
  },
  {
   "cell_type": "code",
   "execution_count": 12,
   "metadata": {},
   "outputs": [
    {
     "name": "stdout",
     "output_type": "stream",
     "text": [
      "      Date  Profit/Losses\n",
      "38  Mar-13        1141840\n"
     ]
    }
   ],
   "source": [
    "max_pnl = df.loc[df['Profit/Losses'] == df['Profit/Losses'].max()]\n",
    "print(max_pnl)"
   ]
  },
  {
   "cell_type": "code",
   "execution_count": 13,
   "metadata": {},
   "outputs": [
    {
     "name": "stdout",
     "output_type": "stream",
     "text": [
      "4448.127906976744\n"
     ]
    }
   ],
   "source": [
    "#NOT WORKING\n",
    "\n",
    "avg_x = df['Profit/Losses'][0]\n",
    "\n",
    "for i in range(1, len(df['Profit/Losses'])):\n",
    "    avg_x = avg_x + df['Profit/Losses'][i] - df['Profit/Losses'][i - 1]\n",
    "\n",
    "mean_x = avg_x / num_months\n",
    "print(mean_x)\n",
    "\n",
    "\n"
   ]
  },
  {
   "cell_type": "code",
   "execution_count": 14,
   "metadata": {},
   "outputs": [
    {
     "data": {
      "text/plain": [
       "1141840"
      ]
     },
     "execution_count": 14,
     "metadata": {},
     "output_type": "execute_result"
    }
   ],
   "source": [
    "df['Profit/Losses'].max()"
   ]
  },
  {
   "cell_type": "code",
   "execution_count": 15,
   "metadata": {},
   "outputs": [
    {
     "data": {
      "text/plain": [
       "'Aug-16'"
      ]
     },
     "execution_count": 15,
     "metadata": {},
     "output_type": "execute_result"
    }
   ],
   "source": [
    "#Set initial value\n",
    "max_gain = 0\n",
    "\n",
    "#loop through rows 2 to len()\n",
    "for i in range(1, len(df['Profit/Losses'])):\n",
    "    #setup for loop to check if current cell difference from last month is greater than max_gain\n",
    "    if (df['Profit/Losses'][i] - df['Profit/Losses'][i - 1]) > max_gain:\n",
    "\n",
    "        #update value of max_gain\n",
    "        max_gain = df['Profit/Losses'][i] - df['Profit/Losses'][i - 1]\n",
    "\n",
    "        #update value of max_gain_date\n",
    "        max_gain_date = df['Date'][i]\n",
    "\n",
    "#print outputs\n",
    "max_gain\n",
    "max_gain_date"
   ]
  },
  {
   "cell_type": "code",
   "execution_count": 16,
   "metadata": {},
   "outputs": [
    {
     "data": {
      "text/plain": [
       "'Feb-14'"
      ]
     },
     "execution_count": 16,
     "metadata": {},
     "output_type": "execute_result"
    }
   ],
   "source": [
    "#Set initial value\n",
    "max_loss = 0\n",
    "\n",
    "#loop through rows 2 to len()\n",
    "for i in range(1, len(df['Profit/Losses'])): \n",
    "\n",
    "    #setup for loop to check if current cell difference from last month is greater than max loss\n",
    "    if (df['Profit/Losses'][i] - df['Profit/Losses'][i - 1]) < max_loss:\n",
    "\n",
    "        #update value of max_loss\n",
    "        max_loss = df['Profit/Losses'][i] - df['Profit/Losses'][i - 1]\n",
    "               \n",
    "        #update value of max_loss_date\n",
    "        max_loss_date = df['Date'][i]\n",
    "\n",
    "#print outpuits\n",
    "max_loss\n",
    "max_loss_date"
   ]
  },
  {
   "cell_type": "code",
   "execution_count": 17,
   "metadata": {},
   "outputs": [
    {
     "name": "stdout",
     "output_type": "stream",
     "text": [
      "Financial Analysis\n",
      "---------------------------\n",
      "Total Months: 86\n",
      "Total: $22564198\n",
      "Average Change: 262374.3953488372\n",
      "Greatest Increase In Profits: $Aug-16 1862002\n",
      "Greatest Decrease In Profits: $Feb-14 -1825558\n"
     ]
    }
   ],
   "source": [
    "#Final output\n",
    "\n",
    "print('Financial Analysis')\n",
    "print('---------------------------')\n",
    "print(f\"Total Months: {num_months}\")\n",
    "print(f\"Total: ${pnl}\")\n",
    "print(f\"Average Change: {avg_pnl}\")\n",
    "print(f\"Greatest Increase In Profits: ${max_gain_date} {max_gain}\")\n",
    "print(f\"Greatest Decrease In Profits: ${max_loss_date} {max_loss}\")"
   ]
  },
  {
   "cell_type": "code",
   "execution_count": null,
   "metadata": {},
   "outputs": [],
   "source": []
  }
 ],
 "metadata": {
  "kernelspec": {
   "display_name": "AUDABC",
   "language": "python",
   "name": "python3"
  },
  "language_info": {
   "codemirror_mode": {
    "name": "ipython",
    "version": 3
   },
   "file_extension": ".py",
   "mimetype": "text/x-python",
   "name": "python",
   "nbconvert_exporter": "python",
   "pygments_lexer": "ipython3",
   "version": "3.10.10"
  },
  "orig_nbformat": 4
 },
 "nbformat": 4,
 "nbformat_minor": 2
}
